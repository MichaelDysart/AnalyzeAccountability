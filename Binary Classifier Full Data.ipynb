{
 "cells": [
  {
   "cell_type": "markdown",
   "metadata": {},
   "source": [
    "# Binary Classifier\n",
    "\n",
    "This notebook will demonstrate baseline binary text classification approaches to classify the excerpts from the given datasets into classes 1 (accountability) or 0 (not accountability). The given datasets are new articles excerpts from news articles about three shooting events. Accountability class refers to if the excerpt is talking about accountability for the crime.\n",
    "\n",
    "## Import Data and Libraries"
   ]
  },
  {
   "cell_type": "code",
   "execution_count": 23,
   "metadata": {},
   "outputs": [],
   "source": [
    "import nltk\n",
    "import numpy as np\n",
    "import pandas as pd\n",
    "from nltk import pos_tag\n",
    "from nltk.corpus import wordnet, stopwords\n",
    "from nltk.stem import snowball, WordNetLemmatizer\n",
    "from nltk.tokenize import sent_tokenize, word_tokenize\n",
    "from sklearn.feature_extraction.text import CountVectorizer, TfidfVectorizer\n",
    "from sklearn.metrics import classification_report, confusion_matrix, f1_score\n",
    "from sklearn.model_selection import train_test_split\n",
    "from sklearn.ensemble import RandomForestClassifier\n",
    "from sklearn.linear_model import LogisticRegression\n",
    "from sklearn import svm\n",
    "import matplotlib.pyplot as plt\n",
    "from binary_classifier import *"
   ]
  },
  {
   "cell_type": "markdown",
   "metadata": {},
   "source": [
    "## Run the Classifiers\n",
    "\n",
    "\n",
    "Three classifiers were implemented in the python file \"binary_classifier\", and each classifier was tested with both the count vector and tfidf vector. The best results from each classifier are printed as output as the function \"find_best_classifier\" runs. The results output include the predicted classes, the true classes and the excerpts from the test set, the fitted best classifier, and the vectorizer that was used.\n",
    "\n",
    "### Isla Vista Results\n",
    "\n",
    "The results show that all classifiers performance was very similar, though in this data set Isla vista, the best was the ensemble method random forest."
   ]
  },
  {
   "cell_type": "code",
   "execution_count": 24,
   "metadata": {},
   "outputs": [
    {
     "name": "stdout",
     "output_type": "stream",
     "text": [
      "Excerpt column: Excerpt\n",
      "tfidf vector SVC results:\n",
      "[[1193   53]\n",
      " [  77  303]]\n",
      "              precision    recall  f1-score   support\n",
      "\n",
      "           0       0.94      0.96      0.95      1246\n",
      "           1       0.85      0.80      0.82       380\n",
      "\n",
      "    accuracy                           0.92      1626\n",
      "   macro avg       0.90      0.88      0.89      1626\n",
      "weighted avg       0.92      0.92      0.92      1626\n",
      "\n",
      "count vector LogisticRegression results:\n",
      "[[1185   61]\n",
      " [  68  312]]\n",
      "              precision    recall  f1-score   support\n",
      "\n",
      "           0       0.95      0.95      0.95      1246\n",
      "           1       0.84      0.82      0.83       380\n",
      "\n",
      "    accuracy                           0.92      1626\n",
      "   macro avg       0.89      0.89      0.89      1626\n",
      "weighted avg       0.92      0.92      0.92      1626\n",
      "\n",
      "tfidf vector RandomForestClassifier results:\n",
      "[[1224   22]\n",
      " [  87  293]]\n",
      "              precision    recall  f1-score   support\n",
      "\n",
      "           0       0.93      0.98      0.96      1246\n",
      "           1       0.93      0.77      0.84       380\n",
      "\n",
      "    accuracy                           0.93      1626\n",
      "   macro avg       0.93      0.88      0.90      1626\n",
      "weighted avg       0.93      0.93      0.93      1626\n",
      "\n"
     ]
    }
   ],
   "source": [
    "# Isla Vista\n",
    "IslaVista_results = find_best_classifier([\"Isla Vista - All Excerpts - 1_2_2019.xlsx\"])"
   ]
  },
  {
   "cell_type": "code",
   "execution_count": 42,
   "metadata": {},
   "outputs": [
    {
     "data": {
      "image/png": "[encoded data removed]",
      "text/plain": [
       "<Figure size 1080x360 with 1 Axes>"
      ]
     },
     "metadata": {},
     "output_type": "display_data"
    }
   ],
   "source": [
    "cv = IslaVista_results['vectorizer']\n",
    "plot_coefficients(IslaVista_results['classifier'].feature_importances_, cv.get_feature_names(), show_neg = False)"
   ]
  },
  {
   "cell_type": "markdown",
   "metadata": {},
   "source": [
    "### Full Data Results\n",
    "\n",
    "The same procedure was tested on the news articles from three shooting events, including Isla Vista, Mayrsville, and Newton. The results are much worse than the results on Isla Vista alone, and also, the best classifier chosen was completely different: support vector machine (svm) with count vectors."
   ]
  },
  {
   "cell_type": "code",
   "execution_count": 2,
   "metadata": {},
   "outputs": [
    {
     "name": "stdout",
     "output_type": "stream",
     "text": [
      "Excerpt column: Excerpt\n",
      "Excerpt column: Excerpt\n",
      "Excerpt column: Excerpt Copy\n",
      "count vector SVC results:\n",
      "[[3627  143]\n",
      " [ 215  390]]\n",
      "              precision    recall  f1-score   support\n",
      "\n",
      "           0       0.94      0.96      0.95      3770\n",
      "           1       0.73      0.64      0.69       605\n",
      "\n",
      "    accuracy                           0.92      4375\n",
      "   macro avg       0.84      0.80      0.82      4375\n",
      "weighted avg       0.91      0.92      0.92      4375\n",
      "\n",
      "count vector LogisticRegression results:\n",
      "[[3650  120]\n",
      " [ 235  370]]\n",
      "              precision    recall  f1-score   support\n",
      "\n",
      "           0       0.94      0.97      0.95      3770\n",
      "           1       0.76      0.61      0.68       605\n",
      "\n",
      "    accuracy                           0.92      4375\n",
      "   macro avg       0.85      0.79      0.81      4375\n",
      "weighted avg       0.91      0.92      0.92      4375\n",
      "\n",
      "count vector RandomForestClassifier results:\n",
      "[[3720   50]\n",
      " [ 288  317]]\n",
      "              precision    recall  f1-score   support\n",
      "\n",
      "           0       0.93      0.99      0.96      3770\n",
      "           1       0.86      0.52      0.65       605\n",
      "\n",
      "    accuracy                           0.92      4375\n",
      "   macro avg       0.90      0.76      0.80      4375\n",
      "weighted avg       0.92      0.92      0.91      4375\n",
      "\n"
     ]
    }
   ],
   "source": [
    "# full data\n",
    "results = find_best_classifier()"
   ]
  },
  {
   "cell_type": "code",
   "execution_count": 43,
   "metadata": {},
   "outputs": [
    {
     "data": {
      "image/png": "[encoded data removed]",
      "text/plain": [
       "<Figure size 1080x360 with 1 Axes>"
      ]
     },
     "metadata": {},
     "output_type": "display_data"
    }
   ],
   "source": [
    "cv = results['vectorizer']\n",
    "plot_coefficients(results['classifier'].coef_, cv.get_feature_names())"
   ]
  },
  {
   "cell_type": "code",
   "execution_count": 50,
   "metadata": {},
   "outputs": [],
   "source": [
    "top_features =20\n",
    "coef = results['classifier'].coef_.ravel()\n",
    "top_positive_coefficients = np.argsort(coef)[-top_features:]\n",
    "top_words = [list(results['vectorizer'][2].get_feature_names())[idx] for idx in top_positive_coefficients]"
   ]
  },
  {
   "cell_type": "code",
   "execution_count": 52,
   "metadata": {},
   "outputs": [
    {
     "data": {
      "text/plain": [
       "dict_keys(['predicted', 'actual', 'test_vectors', 'test_excerpts', 'classifier', 'vectorizer', 'vectors'])"
      ]
     },
     "execution_count": 52,
     "metadata": {},
     "output_type": "execute_result"
    }
   ],
   "source": [
    "results.keys()"
   ]
  },
  {
   "cell_type": "code",
   "execution_count": 68,
   "metadata": {},
   "outputs": [],
   "source": [
    "# documents incorrectly predicted with label 1\n",
    "y_pred = results['predicted']\n",
    "y_test = results['actual']\n",
    "exs = results['test_excerpts']\n",
    "\n",
    "incorrect1_ids = [idx for idx in range(0,len(docs_test)) \n",
    "              if (y_test[idx]==0 and y_pred[idx] == 1)]\n",
    "incorrect1_exs = [exs[idx] for idx in incorrect1_ids]\n",
    "\n",
    "incorrect0_ids = [idx for idx in range(0,len(docs_test)) \n",
    "              if (y_test[idx]==1 and y_pred[idx] == 0)]\n",
    "incorrect0_exs = [exs[idx] for idx in incorrect0_ids]"
   ]
  },
  {
   "cell_type": "code",
   "execution_count": 63,
   "metadata": {},
   "outputs": [],
   "source": [
    "classi = results['classifier']\n",
    "cv = results['vectorizer'][2]\n",
    "account_ratio = []\n",
    "incorrect1_toks = []\n",
    "\n",
    "top_features =20\n",
    "coef = classi.coef_.ravel()\n",
    "top_positive_coefficients = np.argsort(coef)[-top_features:]\n",
    "top_words = [list(cv.get_feature_names())[idx] for idx in top_positive_coefficients]\n",
    "\n",
    "for i in range(len(incorrect1_exs)):\n",
    "    toks = stem_tokenizer(incorrect1_exs[i]).split(\" \")\n",
    "    account_toks = [word for word in toks if word in top_words]\n",
    "    incorrect1_toks.append(account_toks)\n",
    "    account_ratio.append(len(account_toks)/(len(toks)))"
   ]
  },
  {
   "cell_type": "code",
   "execution_count": 67,
   "metadata": {},
   "outputs": [
    {
     "name": "stdout",
     "output_type": "stream",
     "text": [
      "Yes, Rodger was depressed, socially isolated and desperately lonely.\n",
      "['isol']\n",
      "****************\n",
      "I spent a lot of last weekend fighting back tears as I contemplated this most profound of questions.\n",
      "['fight']\n",
      "****************\n",
      "The Washington Post offered an excellent example of this over the weekend, when Ann Hornaday \n",
      "\n",
      "argued that the real culprit for Eliot Rodger's murder spree was ... Judd Apatow, James Bond and a bad Robert Downey flick that \n",
      "probably only Hornaday remembers. \n",
      "['hornaday', 'hornaday']\n",
      "****************\n",
      "Shaylee Bass, 15, a sophomore at the school, said Fryberg had recently gotten into a fight with another boy over a girl\n",
      "['fight']\n",
      "****************\n",
      "Life is not fair,  he wrote in a 137-page manifesto that has now been posted\n",
      "online.  One can either accept that fact, keeling over in defeat or one can\n",
      "harness the strength to fight against it. My destiny was to fight against the\n",
      "unfairness of the world.\n",
      "['fight', 'fight']\n",
      "****************\n",
      "The madness continued in America last week as we, as a nation, shook our heads and shed a collective tear for the victims in New-town, \n",
      "Connecticut.\n",
      "['america']\n",
      "****************\n",
      "Gun control. In America, those two words are dirtier than the most vile curse\n",
      "words. Just two weeks ago, Bob Costas was crucified for blaming the nation's gun\n",
      "culture for the violence that unfolded when Kansas City Chiefs linebacker Jovan\n",
      "Blecher shot and killed his 22-year-old girlfriend, Kasandra Perkins.\n",
      "\n",
      "How dare Costas talk about the violence off the field instead of the violence on\n",
      "it? How dare he interject the politics of gun control into NBC's \"Sunday Night\n",
      "Football\"?\n",
      "['america', 'blame', 'footbal']\n",
      "****************\n",
      "\"This is a whole different world since this tragedy in Connecticut,\" he said. \"Those lives that were snuffed out, those little kids have \n",
      "become America's kids.\" \n",
      "['america']\n",
      "****************\n",
      "Many of the students at UCSB blame the media, insisting the nonstop coverage rewards the murderer in death with the attention and\n",
      "“fame” he sought in life.\n",
      "['blame']\n",
      "****************\n",
      "The three 9 mm semi-automatic handguns and glock 34 longslide found with Rodger were legally purchased prior to the check on\n",
      "Rodger’s welfare and registered in Rodger’s name.\n",
      "['welfar']\n",
      "****************\n"
     ]
    }
   ],
   "source": [
    "example_ids = np.argsort(-np.array(account_ratio))\n",
    "\n",
    "for example_id in example_ids[0:10]:\n",
    "    excerpt = incorrect1_exs[example_id]\n",
    "    acc_toks = incorrect1_toks[example_id]\n",
    "    print(excerpt)\n",
    "    print(acc_toks)\n",
    "    print(str(\"****************\"))"
   ]
  },
  {
   "cell_type": "code",
   "execution_count": 69,
   "metadata": {
    "collapsed": true
   },
   "outputs": [],
   "source": [
    "classi = results['classifier']\n",
    "cv = results['vectorizer'][2]\n",
    "non_account_ratio = []\n",
    "incorrect0_toks = []\n",
    "\n",
    "top_features =20\n",
    "coef = classi.coef_.ravel()\n",
    "top_negative_coefficients = np.argsort(coef)[:top_features]\n",
    "top_words = [list(cv.get_feature_names())[idx] for idx in top_negative_coefficients]\n",
    "\n",
    "for i in range(len(incorrect0_exs)):\n",
    "    toks = stem_tokenizer(incorrect0_exs[i]).split(\" \")\n",
    "    account_toks = [word for word in toks if word in top_words]\n",
    "    incorrect0_toks.append(account_toks)\n",
    "    non_account_ratio.append(len(account_toks)/(len(toks)))"
   ]
  },
  {
   "cell_type": "code",
   "execution_count": 70,
   "metadata": {},
   "outputs": [
    {
     "name": "stdout",
     "output_type": "stream",
     "text": [
      "The ban, which expired in 2004, would certainly have made a difference in the\n",
      "number of children who survived the Newtown shooting. The shooter could not have\n",
      "shot as many, as quickly, as he did.\n",
      "['surviv']\n",
      "****************\n",
      "His mother knew he was a danger to himself and others and asked the local cops to pay him a visit. The police did go to the kids \n",
      "apartment, but saw no reason to lock him up. \n",
      "['local']\n",
      "****************\n",
      "The next time you want to call a woman a derogatory term because she doesnt show any interest in you, take a step back and remember \n",
      "\n",
      "\n",
      "thats the kind of thinking that caused Rodger to go off on his tantrums. \n",
      "['rememb']\n",
      "****************\n",
      "Jennifer Maksel, the mother of 7-year-old Sandy Hook survivor Bryce Maksel, testified that she had a hard time getting help from the local schools and hospital for her 12-year-old son who she said had Asperger's Syndrome, attention deficit-hyperactivity disorder and oppositional defiant disorder.\n",
      "['local']\n",
      "****************\n",
      "The mass killing last week in Isla Vista, Calif., has put a spotlight on dueling pieces of mental health legislation that \n",
      "would, in varying degrees, revamp the way the federal government helps provide for mental health care at the state and local level. \n",
      "['local']\n",
      "****************\n",
      "Gun massacres are not uniquely American, but they are distinctly so. The United States dominates the category. Since 2006, a mass \n",
      "shooting has taken place in the U.S. roughly every two weeks. Some 200 children have died of gunshots in the year since Sandy Hook. \n",
      "['gunshot']\n",
      "****************\n",
      "Sheriff Bill Brown said in the report that Rodger \"clearly suffered from significant mental illness that ultimately resulted in homicidal and\n",
      "suicidal rage.\" Brown said he hoped a review of the findings by mental health professionals and FBI behavior experts will help improve\n",
      "intervention and treatment of such issues.\n",
      "['review']\n",
      "****************\n",
      "MSNBC's Martin Bashir suggested that Republican senators need to have a member\n",
      "of their families killed for them to support the Democrats' gun proposals. In a\n",
      "bizarre version of \"A Christmas Carol,\" CNN's Carol Costello fantasized about \"a\n",
      "mother who lost her child,\" showing up and knocking on Sen. Rand Paul's door,\n",
      "saying, \"Please don't do this!\"\n",
      "['paul']\n",
      "****************\n",
      "Mental health evaluation must be routine, administered as part of everyone's\n",
      "annual health checkup. Quality mental health services must be made available to\n",
      "all, well before needs reach the crisis point in any more communities. Our\n",
      "hearts are broken for Newtown families who lost their children. In our Cape\n",
      "Region, Bradley's victims survived, yet the loss of their innocence is no less\n",
      "heartbreaking.\n",
      "['surviv']\n",
      "****************\n",
      "lements, like many others in the group, was convinced that if Lanza had smaller magazines as he reloaded that there would have been \n",
      "\"fewer children killed.\" Six children were able to escape from teacher Victoria Soto's classroom when Lanza either faced a jammed \n",
      "magazine or stopped to change clips. \n",
      "\n",
      "Clements wants Connecticut to ban possession of clips with more than 10 rounds, among other changes. A bipartisan bill, still being \n",
      "negotiated, would limit future magazines to 10 bullets and possibly put some limits on current high-capacity magazines, but not outright \n",
      "ban possession, according to sources. \n",
      "\n",
      "Lanza brought multiple 30-round magazines and expended 154 bullets in less than five minutes, leaving 26 dead in two classrooms and a \n",
      "hallway before he committed suicide at the school. Each victim was hit with between 3 and 11 bullets. \n",
      "['victoria', 'hit']\n",
      "****************\n"
     ]
    }
   ],
   "source": [
    "example_ids = np.argsort(-np.array(non_account_ratio))\n",
    "\n",
    "for example_id in example_ids[0:10]:\n",
    "    excerpt = incorrect0_exs[example_id]\n",
    "    acc_toks = incorrect0_toks[example_id]\n",
    "    print(excerpt)\n",
    "    print(acc_toks)\n",
    "    print(str(\"****************\"))"
   ]
  },
  {
   "cell_type": "markdown",
   "metadata": {},
   "source": [
    "### Repeat on Isla Vista with SVM"
   ]
  },
  {
   "cell_type": "code",
   "execution_count": 45,
   "metadata": {},
   "outputs": [
    {
     "data": {
      "image/png": "[encoded data removed]",
      "text/plain": [
       "<Figure size 1080x360 with 1 Axes>"
      ]
     },
     "metadata": {},
     "output_type": "display_data"
    }
   ],
   "source": [
    "file_name = \"Isla Vista - All Excerpts - 1_2_2019.xlsx\"\n",
    "data = pd.read_excel(file_name, sheet_name='Dedoose Excerpts Export')\n",
    "data = data.dropna(axis=0)\n",
    "ex_col = list(data.columns)[1]\n",
    "excerpts = list(data[ex_col])\n",
    "account_labels = list(data['ACCOUNT'])\n",
    "\n",
    "docs = [stem_tokenizer(doc) for doc in excerpts]\n",
    "count_vectorizer = CountVectorizer(max_features=1500, min_df=5, max_df=0.7,\n",
    "                                    stop_words=stopwords.words('english'))\n",
    "stem_count_X = count_vectorizer.fit_transform(docs).toarray()\n",
    "\n",
    "docs_train, docs_test, y_train, y_test \\\n",
    "= train_test_split(pd.DataFrame(stem_count_X), account_labels,\n",
    "                    test_size=0.2, random_state=0)\n",
    "\n",
    "classi = svm.SVC(kernel='linear') \n",
    "classi.fit(docs_train, y_train)\n",
    "y_pred = classi.predict(docs_test)\n",
    "f1 = (f1_score(y_test,y_pred))\n",
    "\n",
    "plot_coefficients(classi.coef_, count_vectorizer.get_feature_names())"
   ]
  },
  {
   "cell_type": "code",
   "execution_count": 46,
   "metadata": {},
   "outputs": [
    {
     "name": "stdout",
     "output_type": "stream",
     "text": [
      "[[1177   69]\n",
      " [  66  314]]\n",
      "              precision    recall  f1-score   support\n",
      "\n",
      "           0       0.95      0.94      0.95      1246\n",
      "           1       0.82      0.83      0.82       380\n",
      "\n",
      "    accuracy                           0.92      1626\n",
      "   macro avg       0.88      0.89      0.88      1626\n",
      "weighted avg       0.92      0.92      0.92      1626\n",
      "\n"
     ]
    }
   ],
   "source": [
    "print(confusion_matrix(y_test,y_pred))\n",
    "print(classification_report(y_test,y_pred))"
   ]
  },
  {
   "cell_type": "code",
   "execution_count": null,
   "metadata": {
    "collapsed": true
   },
   "outputs": [],
   "source": []
  }
 ],
 "metadata": {
  "kernelspec": {
   "display_name": "Python 3",
   "language": "python",
   "name": "python3"
  },
  "language_info": {
   "codemirror_mode": {
    "name": "ipython",
    "version": 3
   },
   "file_extension": ".py",
   "mimetype": "text/x-python",
   "name": "python",
   "nbconvert_exporter": "python",
   "pygments_lexer": "ipython3",
   "version": "3.6.8"
  }
 },
 "nbformat": 4,
 "nbformat_minor": 2
}
