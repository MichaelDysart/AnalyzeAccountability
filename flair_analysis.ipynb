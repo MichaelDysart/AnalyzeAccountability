{
  "nbformat": 4,
  "nbformat_minor": 0,
  "metadata": {
    "colab": {
      "name": "flair analysis.ipynb",
      "version": "0.3.2",
      "provenance": [],
      "toc_visible": true,
      "machine_shape": "hm",
      "include_colab_link": true
    },
    "kernelspec": {
      "name": "python3",
      "display_name": "Python 3"
    },
    "accelerator": "GPU"
  },
  "cells": [
    {
      "cell_type": "markdown",
      "metadata": {
        "id": "view-in-github",
        "colab_type": "text"
      },
      "source": [
        "<a href=\"https://colab.research.google.com/github/anjapago/AnalyzeAccountability/blob/master/flair_analysis.ipynb\" target=\"_parent\"><img src=\"https://colab.research.google.com/assets/colab-badge.svg\" alt=\"Open In Colab\"/></a>"
      ]
    },
    {
      "cell_type": "code",
      "metadata": {
        "id": "GtgjqStCtTF8",
        "colab_type": "code",
        "colab": {}
      },
      "source": [
        "pip install git+https://github.com/anjapago/flair"
      ],
      "execution_count": 0,
      "outputs": []
    },
    {
      "cell_type": "code",
      "metadata": {
        "id": "HqQO-31b5OtG",
        "colab_type": "code",
        "colab": {
          "base_uri": "https://localhost:8080/",
          "height": 136
        },
        "outputId": "76fd2195-a736-44b3-cc0b-8eb79032c599"
      },
      "source": [
        "!git clone https://github.com/anjapago/AnalyzeAccountability.git"
      ],
      "execution_count": 1,
      "outputs": [
        {
          "output_type": "stream",
          "text": [
            "Cloning into 'AnalyzeAccountability'...\n",
            "remote: Enumerating objects: 154, done.\u001b[K\n",
            "remote: Counting objects: 100% (154/154), done.\u001b[K\n",
            "remote: Compressing objects: 100% (90/90), done.\u001b[K\n",
            "remote: Total 444 (delta 89), reused 115 (delta 60), pack-reused 290\u001b[K\n",
            "Receiving objects: 100% (444/444), 1.95 MiB | 3.78 MiB/s, done.\n",
            "Resolving deltas: 100% (244/244), done.\n"
          ],
          "name": "stdout"
        }
      ]
    },
    {
      "cell_type": "code",
      "metadata": {
        "id": "0TRRdKwG7r_L",
        "colab_type": "code",
        "colab": {}
      },
      "source": [
        "import pandas as pd\n",
        "import os\n",
        "import nltk\n",
        "nltk.download('punkt')\n",
        "from AnalyzeAccountability.notebooks import load_data"
      ],
      "execution_count": 0,
      "outputs": []
    },
    {
      "cell_type": "code",
      "metadata": {
        "id": "_NWPG_CsrwpS",
        "colab_type": "code",
        "outputId": "6fce578c-e2e6-4417-eec6-9e7d9ca8cab9",
        "colab": {
          "base_uri": "https://localhost:8080/",
          "height": 122
        }
      },
      "source": [
        "from google.colab import drive\n",
        "drive.mount('/content/drive')"
      ],
      "execution_count": 3,
      "outputs": [
        {
          "output_type": "stream",
          "text": [
            "Go to this URL in a browser: https://accounts.google.com/o/oauth2/auth?client_id=947318989803-6bn6qk8qdgf4n4g3pfee6491hc0brc4i.apps.googleusercontent.com&redirect_uri=urn%3Aietf%3Awg%3Aoauth%3A2.0%3Aoob&scope=email%20https%3A%2F%2Fwww.googleapis.com%2Fauth%2Fdocs.test%20https%3A%2F%2Fwww.googleapis.com%2Fauth%2Fdrive%20https%3A%2F%2Fwww.googleapis.com%2Fauth%2Fdrive.photos.readonly%20https%3A%2F%2Fwww.googleapis.com%2Fauth%2Fpeopleapi.readonly&response_type=code\n",
            "\n",
            "Enter your authorization code:\n",
            "··········\n",
            "Mounted at /content/drive\n"
          ],
          "name": "stdout"
        }
      ]
    },
    {
      "cell_type": "markdown",
      "metadata": {
        "id": "HAnF37T4255v",
        "colab_type": "text"
      },
      "source": [
        "## Prepare Data for Flair"
      ]
    },
    {
      "cell_type": "code",
      "metadata": {
        "id": "fMXEPcFFFDRa",
        "colab_type": "code",
        "colab": {}
      },
      "source": [
        "def prep_flair_data(file_list, \n",
        "                    file_path = './drive/My Drive/Colab Notebooks/data/',\n",
        "                    flair_data_path = './drive/My Drive/Colab Notebooks/flair data/',\n",
        "                    ptest=0.25, merged = False):\n",
        "  \n",
        "  #load each data file, save in the output format for flair as sentences and exs\n",
        "  for file_name in file_list:\n",
        "    file_excerpts_df = load_data.load_xlsx_data([file_path+file_name], \n",
        "                                   max_sentences=5, as_sentences = False)\n",
        "    file_sentences_df = load_data.load_xlsx_data([file_path+file_name], \n",
        "                                       max_sentences=5, as_sentences = True)\n",
        "    ptest = 0.25\n",
        "\n",
        "    # sentences: save train.csv/test.csv/dev.csv\n",
        "    data_train, data_test_dev = train_test_split(file_sentences_df,\n",
        "                                             test_size=ptest, random_state=0)\n",
        "    data_test, data_dev = train_test_split(data_test_dev,\n",
        "                                           test_size=0.5, random_state=1)\n",
        "\n",
        "    event_name = file_name.split(' - ')[0]\n",
        "    outdir = flair_data_path+event_name+\"-sentences/\"\n",
        "    if not os.path.exists(outdir):\n",
        "        os.mkdir(outdir)\n",
        "\n",
        "    data_train.to_csv(outdir+\"train.csv\")\n",
        "    data_test.to_csv(outdir+\"test.csv\")\n",
        "    data_dev.to_csv(outdir+\"dev.csv\")\n",
        "\n",
        "    # excerpts: save train.csv/test.csv/dev.csv\n",
        "    data_train, data_test_dev = train_test_split(file_excerpts_df,\n",
        "                                             test_size=ptest, random_state=0)\n",
        "    data_test, data_dev = train_test_split(data_test_dev,\n",
        "                                           test_size=0.5, random_state=1)\n",
        "\n",
        "    flair_data_path = './drive/My Drive/Colab Notebooks/flair data/'\n",
        "    event_name = file_name.split(' - ')[0]\n",
        "    outdir = flair_data_path+event_name+\"-excerpts/\"\n",
        "    if not os.path.exists(outdir):\n",
        "        os.mkdir(outdir)\n",
        "\n",
        "\n",
        "    data_train.to_csv(outdir+\"train.csv\")\n",
        "    data_test.to_csv(outdir+\"test.csv\")\n",
        "    data_dev.to_csv(outdir+\"dev.csv\")\n",
        "    "
      ],
      "execution_count": 0,
      "outputs": []
    },
    {
      "cell_type": "code",
      "metadata": {
        "id": "8Ctv3GqVHBih",
        "colab_type": "code",
        "colab": {
          "base_uri": "https://localhost:8080/",
          "height": 493
        },
        "outputId": "163a897b-1d57-4dfc-83e8-89c7a5eb1ed2"
      },
      "source": [
        "# prepare files for all events for flair\n",
        "file_names = os.listdir('drive/My Drive/Colab Notebooks/data')\n",
        "xlsx_files = [file_name for file_name in file_names if 'xlsx' in file_name]\n",
        "prep_flair_data(xlsx_files, \n",
        "                file_path = './drive/My Drive/Colab Notebooks/data/',\n",
        "                flair_data_path = './drive/My Drive/Colab Notebooks/flair data/',\n",
        "                ptest=0.25, merged = False)"
      ],
      "execution_count": 19,
      "outputs": [
        {
          "output_type": "stream",
          "text": [
            "num excerpts loaded: 903\n",
            "903903903\n",
            "num excerpts loaded: 903\n",
            "903903903\n",
            "num excerpts loaded: 1263\n",
            "126312631263\n",
            "num excerpts loaded: 1263\n",
            "126312631263\n",
            "num excerpts loaded: 1713\n",
            "171317131713\n",
            "num excerpts loaded: 1713\n",
            "171317131713\n",
            "num excerpts loaded: 1403\n",
            "140314031403\n",
            "num excerpts loaded: 1403\n",
            "140314031403\n",
            "num excerpts loaded: 2293\n",
            "229322932293\n",
            "num excerpts loaded: 2293\n",
            "229322932293\n",
            "num excerpts loaded: 5606\n",
            "560656065606\n",
            "num excerpts loaded: 5606\n",
            "560656065606\n",
            "num excerpts loaded: 8138\n",
            "813881388138\n",
            "num excerpts loaded: 8138\n",
            "813881388138\n"
          ],
          "name": "stdout"
        }
      ]
    },
    {
      "cell_type": "code",
      "metadata": {
        "id": "zeCiZ212aja3",
        "colab_type": "code",
        "colab": {
          "base_uri": "https://localhost:8080/",
          "height": 272
        },
        "outputId": "0dae5657-18a5-4d21-ed3a-922ab130bc6a"
      },
      "source": [
        "# process data to format for flair\n",
        "\n",
        "# load one file\n",
        "file_path = './drive/My Drive/Colab Notebooks/data/'\n",
        "file_name = 'San Bernardino - All Excerpts - 7_15_2019.xlsx'\n",
        "file_excerpts_df = load_data.load_xlsx_data([file_path+file_name], \n",
        "                                   max_sentences=5, as_sentences = False)\n",
        "\n",
        "\n",
        "file_sentences_df = load_data.load_xlsx_data([file_path+file_name], \n",
        "                                   max_sentences=5, as_sentences = True)\n"
      ],
      "execution_count": 8,
      "outputs": [
        {
          "output_type": "stream",
          "text": [
            "num excerpts loaded: 1713\n",
            "171317131713\n",
            "num excerpts loaded: 1713\n",
            "171317131713\n"
          ],
          "name": "stdout"
        },
        {
          "output_type": "execute_result",
          "data": {
            "text/html": [
              "<div>\n",
              "<style scoped>\n",
              "    .dataframe tbody tr th:only-of-type {\n",
              "        vertical-align: middle;\n",
              "    }\n",
              "\n",
              "    .dataframe tbody tr th {\n",
              "        vertical-align: top;\n",
              "    }\n",
              "\n",
              "    .dataframe thead th {\n",
              "        text-align: right;\n",
              "    }\n",
              "</style>\n",
              "<table border=\"1\" class=\"dataframe\">\n",
              "  <thead>\n",
              "    <tr style=\"text-align: right;\">\n",
              "      <th></th>\n",
              "      <th>file</th>\n",
              "      <th>StoryID</th>\n",
              "      <th>Excerpts</th>\n",
              "      <th>ACCOUNT</th>\n",
              "      <th>excerpt_length</th>\n",
              "    </tr>\n",
              "  </thead>\n",
              "  <tbody>\n",
              "    <tr>\n",
              "      <th>0</th>\n",
              "      <td>./drive/My Drive/Colab Notebooks/data/San Bern...</td>\n",
              "      <td>NS2015.doc</td>\n",
              "      <td>Gov.</td>\n",
              "      <td>0</td>\n",
              "      <td>2</td>\n",
              "    </tr>\n",
              "    <tr>\n",
              "      <th>1</th>\n",
              "      <td>./drive/My Drive/Colab Notebooks/data/San Bern...</td>\n",
              "      <td>NS2015.doc</td>\n",
              "      <td>Dannel Malloy and other state officials expres...</td>\n",
              "      <td>0</td>\n",
              "      <td>2</td>\n",
              "    </tr>\n",
              "    <tr>\n",
              "      <th>2</th>\n",
              "      <td>./drive/My Drive/Colab Notebooks/data/San Bern...</td>\n",
              "      <td>NS2015.doc</td>\n",
              "      <td>Connecticut State Police spokesperson Trooper ...</td>\n",
              "      <td>0</td>\n",
              "      <td>3</td>\n",
              "    </tr>\n",
              "    <tr>\n",
              "      <th>3</th>\n",
              "      <td>./drive/My Drive/Colab Notebooks/data/San Bern...</td>\n",
              "      <td>NS2015.doc</td>\n",
              "      <td>She said this involves driving by the areas su...</td>\n",
              "      <td>0</td>\n",
              "      <td>3</td>\n",
              "    </tr>\n",
              "    <tr>\n",
              "      <th>4</th>\n",
              "      <td>./drive/My Drive/Colab Notebooks/data/San Bern...</td>\n",
              "      <td>NS2015.doc</td>\n",
              "      <td>\"The Connecticut State Police reminds everyone...</td>\n",
              "      <td>0</td>\n",
              "      <td>3</td>\n",
              "    </tr>\n",
              "  </tbody>\n",
              "</table>\n",
              "</div>"
            ],
            "text/plain": [
              "                                                file  ... excerpt_length\n",
              "0  ./drive/My Drive/Colab Notebooks/data/San Bern...  ...              2\n",
              "1  ./drive/My Drive/Colab Notebooks/data/San Bern...  ...              2\n",
              "2  ./drive/My Drive/Colab Notebooks/data/San Bern...  ...              3\n",
              "3  ./drive/My Drive/Colab Notebooks/data/San Bern...  ...              3\n",
              "4  ./drive/My Drive/Colab Notebooks/data/San Bern...  ...              3\n",
              "\n",
              "[5 rows x 5 columns]"
            ]
          },
          "metadata": {
            "tags": []
          },
          "execution_count": 8
        }
      ]
    },
    {
      "cell_type": "code",
      "metadata": {
        "id": "6QDzDK2_9ERv",
        "colab_type": "code",
        "colab": {}
      },
      "source": [
        "# save each as train.csv/test.csv/dev.csv for flair\n",
        "from sklearn.model_selection import train_test_split\n",
        "ptest = 0.25\n",
        "\n",
        "# sentences: save train.csv/test.csv/dev.csv\n",
        "data_train, data_test_dev = train_test_split(file_sentences_df,\n",
        "                                         test_size=ptest, random_state=0)\n",
        "data_test, data_dev = train_test_split(data_test_dev,\n",
        "                                       test_size=0.5, random_state=1)\n",
        "\n",
        "flair_data_path = './drive/My Drive/Colab Notebooks/flair data/'\n",
        "event_name = file_name.split(' - ')[0]\n",
        "outdir = flair_data_path+event_name+\"-sentences/\"\n",
        "if not os.path.exists(outdir):\n",
        "    os.mkdir(outdir)\n",
        "    \n",
        "\n",
        "data_train.to_csv(outdir+\"train.csv\")\n",
        "data_test.to_csv(outdir+\"test.csv\")\n",
        "data_dev.to_csv(outdir+\"dev.csv\")\n",
        "\n",
        "# excerpts: save train.csv/test.csv/dev.csv\n",
        "data_train, data_test_dev = train_test_split(file_excerpts_df,\n",
        "                                         test_size=ptest, random_state=0)\n",
        "data_test, data_dev = train_test_split(data_test_dev,\n",
        "                                       test_size=0.5, random_state=1)\n",
        "\n",
        "flair_data_path = './drive/My Drive/Colab Notebooks/flair data/'\n",
        "event_name = file_name.split(' - ')[0]\n",
        "outdir = flair_data_path+event_name+\"-excerpts/\"\n",
        "if not os.path.exists(outdir):\n",
        "    os.mkdir(outdir)\n",
        "    \n",
        "\n",
        "data_train.to_csv(outdir+\"train.csv\")\n",
        "data_test.to_csv(outdir+\"test.csv\")\n",
        "data_dev.to_csv(outdir+\"dev.csv\")"
      ],
      "execution_count": 0,
      "outputs": []
    },
    {
      "cell_type": "code",
      "metadata": {
        "id": "sKBOr5FsNy19",
        "colab_type": "code",
        "colab": {}
      },
      "source": [
        "import pandas as pd\n",
        "from sklearn.model_selection import train_test_split\n",
        "from flair.embeddings import WordEmbeddings, FlairEmbeddings, DocumentPoolEmbeddings\n",
        "from flair.data_fetcher import NLPTaskDataFetcher\n",
        "from flair.models import TextClassifier\n",
        "from flair.trainers import ModelTrainer\n",
        "from pathlib import Path\n",
        "\n",
        "file_path = './drive/My Drive/Colab Notebooks/flair data'\n",
        "corpus = NLPTaskDataFetcher.load_classification_corpus(Path(file_path),\n",
        "                                                       test_file='flair_test.csv',\n",
        "                                                       dev_file='flair_dev.csv',\n",
        "                                                       train_file='flair_train.csv')\n",
        "word_embeddings = [WordEmbeddings('glove'),\n",
        "                   FlairEmbeddings('news-forward-fast'),\n",
        "                   FlairEmbeddings('news-backward-fast')]\n",
        "document_embeddings = DocumentPoolEmbeddings(word_embeddings)\n",
        "\n",
        "print(\"Create Classifier *************************\")\n",
        "classifier = TextClassifier(document_embeddings,\n",
        "                            label_dictionary=corpus.make_label_dictionary(), multi_label=False)\n",
        "print(\"Create Trainer *******************************\")\n",
        "trainer = ModelTrainer(classifier, corpus)\n",
        "print(\"Begin Training *******************************\")\n",
        "trainer.train(max_epochs=10, base_path = \"flair_pooled\")"
      ],
      "execution_count": 0,
      "outputs": []
    }
  ]
}